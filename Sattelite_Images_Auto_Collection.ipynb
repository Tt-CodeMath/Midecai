{
  "nbformat": 4,
  "nbformat_minor": 0,
  "metadata": {
    "colab": {
      "provenance": [],
      "gpuType": "T4"
    },
    "kernelspec": {
      "name": "python3",
      "display_name": "Python 3"
    },
    "language_info": {
      "name": "python"
    },
    "accelerator": "GPU"
  },
  "cells": [
    {
      "cell_type": "code",
      "source": [
        "# Install required libraries\n",
        "!pip install sentinelhub\n",
        "!pip install rasterio"
      ],
      "metadata": {
        "colab": {
          "base_uri": "https://localhost:8080/"
        },
        "id": "B0VTyHvBFf-Z",
        "outputId": "b28eb02f-28cb-4a18-8476-a950db9b2b57"
      },
      "execution_count": 17,
      "outputs": [
        {
          "output_type": "stream",
          "name": "stdout",
          "text": [
            "Requirement already satisfied: sentinelhub in /usr/local/lib/python3.11/dist-packages (3.11.1)\n",
            "Requirement already satisfied: aenum>=2.1.4 in /usr/local/lib/python3.11/dist-packages (from sentinelhub) (3.1.15)\n",
            "Requirement already satisfied: click in /usr/local/lib/python3.11/dist-packages (from sentinelhub) (8.1.8)\n",
            "Requirement already satisfied: dataclasses-json in /usr/local/lib/python3.11/dist-packages (from sentinelhub) (0.6.7)\n",
            "Requirement already satisfied: numpy in /usr/local/lib/python3.11/dist-packages (from sentinelhub) (1.26.4)\n",
            "Requirement already satisfied: oauthlib in /usr/local/lib/python3.11/dist-packages (from sentinelhub) (3.2.2)\n",
            "Requirement already satisfied: pillow>=9.2.0 in /usr/local/lib/python3.11/dist-packages (from sentinelhub) (11.1.0)\n",
            "Requirement already satisfied: pyproj>=2.2.0 in /usr/local/lib/python3.11/dist-packages (from sentinelhub) (3.7.0)\n",
            "Requirement already satisfied: python-dateutil in /usr/local/lib/python3.11/dist-packages (from sentinelhub) (2.8.2)\n",
            "Requirement already satisfied: requests-oauthlib>=1.0.0 in /usr/local/lib/python3.11/dist-packages (from sentinelhub) (1.3.1)\n",
            "Requirement already satisfied: requests>=2.27.0 in /usr/local/lib/python3.11/dist-packages (from sentinelhub) (2.32.3)\n",
            "Requirement already satisfied: shapely in /usr/local/lib/python3.11/dist-packages (from sentinelhub) (2.0.6)\n",
            "Requirement already satisfied: tifffile>=2020.9.30 in /usr/local/lib/python3.11/dist-packages (from sentinelhub) (2025.1.10)\n",
            "Requirement already satisfied: tomli in /usr/local/lib/python3.11/dist-packages (from sentinelhub) (2.2.1)\n",
            "Requirement already satisfied: tomli-w in /usr/local/lib/python3.11/dist-packages (from sentinelhub) (1.2.0)\n",
            "Requirement already satisfied: tqdm in /usr/local/lib/python3.11/dist-packages (from sentinelhub) (4.67.1)\n",
            "Requirement already satisfied: typing-extensions>=4.5.0 in /usr/local/lib/python3.11/dist-packages (from sentinelhub) (4.12.2)\n",
            "Requirement already satisfied: utm in /usr/local/lib/python3.11/dist-packages (from sentinelhub) (0.8.0)\n",
            "Requirement already satisfied: certifi in /usr/local/lib/python3.11/dist-packages (from pyproj>=2.2.0->sentinelhub) (2024.12.14)\n",
            "Requirement already satisfied: charset-normalizer<4,>=2 in /usr/local/lib/python3.11/dist-packages (from requests>=2.27.0->sentinelhub) (3.4.1)\n",
            "Requirement already satisfied: idna<4,>=2.5 in /usr/local/lib/python3.11/dist-packages (from requests>=2.27.0->sentinelhub) (3.10)\n",
            "Requirement already satisfied: urllib3<3,>=1.21.1 in /usr/local/lib/python3.11/dist-packages (from requests>=2.27.0->sentinelhub) (2.3.0)\n",
            "Requirement already satisfied: marshmallow<4.0.0,>=3.18.0 in /usr/local/lib/python3.11/dist-packages (from dataclasses-json->sentinelhub) (3.26.0)\n",
            "Requirement already satisfied: typing-inspect<1,>=0.4.0 in /usr/local/lib/python3.11/dist-packages (from dataclasses-json->sentinelhub) (0.9.0)\n",
            "Requirement already satisfied: six>=1.5 in /usr/local/lib/python3.11/dist-packages (from python-dateutil->sentinelhub) (1.17.0)\n",
            "Requirement already satisfied: packaging>=17.0 in /usr/local/lib/python3.11/dist-packages (from marshmallow<4.0.0,>=3.18.0->dataclasses-json->sentinelhub) (24.2)\n",
            "Requirement already satisfied: mypy-extensions>=0.3.0 in /usr/local/lib/python3.11/dist-packages (from typing-inspect<1,>=0.4.0->dataclasses-json->sentinelhub) (1.0.0)\n",
            "Requirement already satisfied: rasterio in /usr/local/lib/python3.11/dist-packages (1.4.3)\n",
            "Requirement already satisfied: affine in /usr/local/lib/python3.11/dist-packages (from rasterio) (2.4.0)\n",
            "Requirement already satisfied: attrs in /usr/local/lib/python3.11/dist-packages (from rasterio) (25.1.0)\n",
            "Requirement already satisfied: certifi in /usr/local/lib/python3.11/dist-packages (from rasterio) (2024.12.14)\n",
            "Requirement already satisfied: click>=4.0 in /usr/local/lib/python3.11/dist-packages (from rasterio) (8.1.8)\n",
            "Requirement already satisfied: cligj>=0.5 in /usr/local/lib/python3.11/dist-packages (from rasterio) (0.7.2)\n",
            "Requirement already satisfied: numpy>=1.24 in /usr/local/lib/python3.11/dist-packages (from rasterio) (1.26.4)\n",
            "Requirement already satisfied: click-plugins in /usr/local/lib/python3.11/dist-packages (from rasterio) (1.1.1)\n",
            "Requirement already satisfied: pyparsing in /usr/local/lib/python3.11/dist-packages (from rasterio) (3.2.1)\n"
          ]
        }
      ]
    },
    {
      "cell_type": "code",
      "source": [
        "# Import necessary libraries\n",
        "from google.colab import drive\n",
        "import os\n",
        "\n",
        "# Mount Google Drive to access files and save results\n",
        "drive.mount('/content/drive')\n",
        "\n",
        "# Create a folder named \"Midecai\" (no error if it already exists)\n",
        "folder_path = \"/content/drive/MyDrive/Midecai\"\n",
        "os.makedirs(folder_path, exist_ok=True)  # exist_ok=True prevents errors if the folder already exists\n",
        "\n",
        "# Change the working directory to the created folder\n",
        "os.chdir(folder_path)\n",
        "print(f\"Current directory: {os.getcwd()}\")"
      ],
      "metadata": {
        "colab": {
          "base_uri": "https://localhost:8080/"
        },
        "id": "kLwfoATMFk4C",
        "outputId": "27cb3ceb-df59-483e-af3e-cc116bd4fd97"
      },
      "execution_count": 18,
      "outputs": [
        {
          "output_type": "stream",
          "name": "stdout",
          "text": [
            "Drive already mounted at /content/drive; to attempt to forcibly remount, call drive.mount(\"/content/drive\", force_remount=True).\n",
            "Current directory: /content/drive/MyDrive/Midecai\n"
          ]
        }
      ]
    },
    {
      "cell_type": "code",
      "source": [
        "# Import required libraries\n",
        "import numpy as np\n",
        "import rasterio\n",
        "import os\n",
        "from datetime import datetime, timedelta\n",
        "from rasterio.transform import from_origin\n",
        "from sentinelhub import (\n",
        "    BBox, CRS, bbox_to_dimensions, SentinelHubRequest,\n",
        "    DataCollection, MosaickingOrder, MimeType, SentinelHubCatalog,\n",
        "    filter_times, SHConfig\n",
        ")\n",
        "import threading\n",
        "from concurrent.futures import ThreadPoolExecutor"
      ],
      "metadata": {
        "id": "OIprTsd9FvSp"
      },
      "execution_count": 19,
      "outputs": []
    },
    {
      "cell_type": "code",
      "source": [
        "# Evalscript to retrieve all 13 bands of Sentinel-2\n",
        "evalscript_all_bands = \"\"\"\n",
        "//VERSION=3\n",
        "function setup() {\n",
        "    return {\n",
        "        input: [{\n",
        "            bands: [\"B01\",\"B02\",\"B03\",\"B04\",\"B05\",\"B06\",\"B07\",\"B08\",\"B8A\",\"B09\",\"B10\",\"B11\",\"B12\"],\n",
        "            units: \"DN\"\n",
        "        }],\n",
        "        output: {\n",
        "            bands: 13,\n",
        "            sampleType: \"INT16\"\n",
        "        }\n",
        "    };\n",
        "}\n",
        "\n",
        "function evaluatePixel(sample) {\n",
        "    return [sample.B01, sample.B02, sample.B03, sample.B04, sample.B05,\n",
        "            sample.B06, sample.B07, sample.B08, sample.B8A, sample.B09,\n",
        "            sample.B10, sample.B11, sample.B12];\n",
        "}\n",
        "\"\"\""
      ],
      "metadata": {
        "id": "tKtohmW2Fv8y"
      },
      "execution_count": 20,
      "outputs": []
    },
    {
      "cell_type": "code",
      "source": [
        "def save_as_geotiff(image_data, bbox, output_path):\n",
        "    \"\"\"Save the image with a transform ensuring NORTH is at the top.\"\"\"\n",
        "    min_lon, min_lat, max_lon, max_lat = bbox\n",
        "    height, width, bands = image_data.shape\n",
        "\n",
        "    # Calculate transform (origin at the NORTHWEST corner)\n",
        "    res_lon = (max_lon - min_lon) / width\n",
        "    res_lat = (max_lat - min_lat) / height  # Keep positive to ensure NORTH is at the top\n",
        "    transform = from_origin(min_lon, max_lat, res_lon, res_lat)  # Do not use -res_lat\n",
        "\n",
        "    # Set metadata\n",
        "    meta = {\n",
        "        'driver': 'GTiff',\n",
        "        'dtype': image_data.dtype,\n",
        "        'count': bands,\n",
        "        'width': width,\n",
        "        'height': height,\n",
        "        'crs': 'EPSG:4326',\n",
        "        'transform': transform\n",
        "    }\n",
        "\n",
        "    # Write the file\n",
        "    with rasterio.open(output_path, 'w', **meta) as dst:\n",
        "        for band in range(bands):\n",
        "            dst.write(image_data[:, :, band], band + 1)"
      ],
      "metadata": {
        "id": "T7eHzWpvFzOf"
      },
      "execution_count": 21,
      "outputs": []
    },
    {
      "cell_type": "code",
      "source": [
        "def split_bbox(bbox, n_rows=2, n_cols=2):\n",
        "    \"\"\"Split the BBox into smaller tiles, ordered from SOUTH to NORTH.\"\"\"\n",
        "    min_lon, min_lat, max_lon, max_lat = bbox\n",
        "    lon_steps = np.linspace(min_lon, max_lon, n_cols + 1)\n",
        "    lat_steps = np.linspace(min_lat, max_lat, n_rows + 1)  # From SOUTH to NORTH\n",
        "\n",
        "    bboxes = []\n",
        "    for row in range(n_rows):\n",
        "        for col in range(n_cols):\n",
        "            tile_bbox = (\n",
        "                lon_steps[col],\n",
        "                lat_steps[row],        # SOUTH boundary\n",
        "                lon_steps[col + 1],\n",
        "                lat_steps[row + 1]     # NORTH boundary\n",
        "            )\n",
        "            bboxes.append(BBox(tile_bbox, crs=CRS.WGS84))\n",
        "    return bboxes"
      ],
      "metadata": {
        "id": "kplSfUUTF2gp"
      },
      "execution_count": 22,
      "outputs": []
    },
    {
      "cell_type": "code",
      "source": [
        "def download_tile(bbox, resolution, time_interval, config):\n",
        "    \"\"\"Download tile data and return a numpy array.\"\"\"\n",
        "    size = bbox_to_dimensions(bbox, resolution=resolution)\n",
        "\n",
        "    request = SentinelHubRequest(\n",
        "        evalscript=evalscript_all_bands,\n",
        "        input_data=[\n",
        "            SentinelHubRequest.input_data(\n",
        "                data_collection=DataCollection.SENTINEL2_L1C,\n",
        "                time_interval=time_interval,\n",
        "                mosaicking_order=MosaickingOrder.MOST_RECENT,\n",
        "            )\n",
        "        ],\n",
        "        responses=[SentinelHubRequest.output_response(\"default\", MimeType.TIFF)],\n",
        "        bbox=bbox,\n",
        "        size=size,\n",
        "        config=config,\n",
        "    )\n",
        "\n",
        "    return request.get_data()[0]"
      ],
      "metadata": {
        "id": "B7zcf7Y2F4qp"
      },
      "execution_count": 23,
      "outputs": []
    },
    {
      "cell_type": "code",
      "source": [
        "def merge_tiles_in_memory(tile_data_list, n_rows, n_cols):\n",
        "    \"\"\"Merge tiles with NORTH at the top and SOUTH at the bottom.\"\"\"\n",
        "    # Sort tiles by row (NORTH to SOUTH) and column (WEST to EAST)\n",
        "    sorted_tiles = sorted(tile_data_list, key=lambda x: (x[1], x[2]))\n",
        "\n",
        "    # Merge rows from NORTH to SOUTH\n",
        "    merged_rows = []\n",
        "    for row in range(n_rows):\n",
        "        row_tiles = [tile for tile in sorted_tiles if tile[1] == row]\n",
        "        row_image = np.concatenate([tile[0] for tile in row_tiles], axis=1)\n",
        "        merged_rows.append(row_image)\n",
        "\n",
        "    # Reverse row order to ensure NORTH is at the top (raster images default to top-left origin)\n",
        "    merged_image = np.concatenate(merged_rows[::-1], axis=0)  # Change here\n",
        "\n",
        "    return merged_image"
      ],
      "metadata": {
        "id": "rg_mc3oxF62R"
      },
      "execution_count": 24,
      "outputs": []
    },
    {
      "cell_type": "code",
      "source": [
        "# Function to download a single tile (wrapped for threading)\n",
        "def download_tile_threaded(tile_bbox, resolution, time_interval, config, row, col):\n",
        "    image_data = download_tile(tile_bbox, resolution, time_interval, config)\n",
        "    return image_data, row, col"
      ],
      "metadata": {
        "id": "LP9svad-KTkS"
      },
      "execution_count": 25,
      "outputs": []
    },
    {
      "cell_type": "code",
      "source": [
        "if __name__ == \"__main__\":\n",
        "    # Authentication configuration\n",
        "    config = SHConfig()\n",
        "    CLIENT_ID = '2528275c-5c63-491d-b27e-91638e73a76d'  # Replace with your credentials\n",
        "    CLIENT_SECRET = '03qMgDgm7QWoyr8nNzVqw9QpfWP7TGpF'  # Replace with your credentials\n",
        "\n",
        "    if CLIENT_ID and CLIENT_SECRET:\n",
        "        config.sh_client_id = CLIENT_ID\n",
        "        config.sh_client_secret = CLIENT_SECRET\n",
        "\n",
        "    # Region and time parameters\n",
        "    DANANG_BBOX_COORDS = [108.136711, 15.925346, 108.351631, 16.183354]\n",
        "    RESOLUTION = 10  # 10m/pixel resolution\n",
        "    N_ROWS, N_COLS = 2, 2  # Split into 2x2 tiles\n",
        "    TIME_DELTA = timedelta(hours=1)  # Time window for searching\n",
        "\n",
        "    # Initialize catalog and search for images\n",
        "    catalog = SentinelHubCatalog(config=config)\n",
        "    search_iterator = catalog.search(\n",
        "        DataCollection.SENTINEL2_L2A,\n",
        "        bbox=BBox(bbox=DANANG_BBOX_COORDS, crs=CRS.WGS84),\n",
        "        time=(\"2024-01-01\", \"2024-03-31\"),\n",
        "        fields={\"include\": [\"id\", \"properties.datetime\"], \"exclude\": []},\n",
        "    )\n",
        "    unique_acquisitions = filter_times(search_iterator.get_timestamps(), time_difference=TIME_DELTA)\n",
        "\n",
        "    # Process each acquisition timestamp\n",
        "    for timestamp in unique_acquisitions:\n",
        "        # Create output directory\n",
        "        date = timestamp.date()\n",
        "        week_num = (date.day - 1) // 7 + 1\n",
        "        output_dir = os.path.join(\n",
        "            f\"Year_{date.year}\",\n",
        "            f\"Month_{date.month:02d}\",\n",
        "            f\"Week_{week_num}\",\n",
        "            f\"Day_{date.day:02d}\"\n",
        "        )\n",
        "        os.makedirs(output_dir, exist_ok=True)\n",
        "\n",
        "        # Download and merge images\n",
        "        tiles = split_bbox(BBox(DANANG_BBOX_COORDS, CRS.WGS84), N_ROWS, N_COLS)\n",
        "        time_interval = (timestamp - TIME_DELTA, timestamp + TIME_DELTA)\n",
        "\n",
        "        tile_data_list = []\n",
        "        with ThreadPoolExecutor(max_workers=10) as executor:  # Adjust max_workers as needed\n",
        "            futures = []\n",
        "            for idx, tile_bbox in enumerate(tiles):\n",
        "                row = idx // N_COLS  # Row increases from SOUTH to NORTH\n",
        "                col = idx % N_COLS   # Column increases from WEST to EAST\n",
        "                futures.append(executor.submit(download_tile_threaded, tile_bbox, RESOLUTION, time_interval, config, row, col))\n",
        "\n",
        "            for future in futures:\n",
        "                tile_data_list.append(future.result())\n",
        "\n",
        "        # Merge images\n",
        "        merged_image = merge_tiles_in_memory(tile_data_list, N_ROWS, N_COLS)\n",
        "\n",
        "        # Save the image\n",
        "        output_path = os.path.join(output_dir, f\"Danang_{date.isoformat()}.tif\")\n",
        "        save_as_geotiff(merged_image, DANANG_BBOX_COORDS, output_path)\n",
        "        print(f\"Processed image for {date.isoformat()}\")\n",
        "\n",
        "    print(\"Completed processing all images!\")"
      ],
      "metadata": {
        "colab": {
          "base_uri": "https://localhost:8080/"
        },
        "id": "TsQn6SBxFb7y",
        "outputId": "edc5fb6b-e909-41cc-df66-790081f12e46"
      },
      "execution_count": null,
      "outputs": [
        {
          "output_type": "stream",
          "name": "stdout",
          "text": [
            "Processed image for 2024-01-02\n",
            "Processed image for 2024-01-07\n",
            "Processed image for 2024-01-12\n",
            "Processed image for 2024-01-17\n",
            "Processed image for 2024-01-22\n",
            "Processed image for 2024-01-27\n",
            "Processed image for 2024-02-01\n"
          ]
        }
      ]
    }
  ]
}